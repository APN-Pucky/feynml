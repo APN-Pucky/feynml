{
 "cells": [
  {
   "cell_type": "code",
   "execution_count": 4,
   "id": "9a207380",
   "metadata": {},
   "outputs": [
    {
     "name": "stdout",
     "output_type": "stream",
     "text": [
      "WARNING. Parse Error: junk after document element: line 99, column 1\n",
      "Number of events: -1\n",
      "digraph {\n",
      "\t0 [label=<<table border=\"0\" cellspacing=\"0\" cellborder=\"0\"><tr><td>c&#773;</td></tr></table>> attr_dict=\"{'id': -4.0, 'status': -1.0, 'mother1': 0.0, 'mother2': 0.0, 'color1': 0.0, 'color2': 502.0, 'px': 0.0, 'py': 0.0, 'pz': 0.9983585819, 'e': 0.9983585819, 'm': 0.0, 'lifetime': 0.0, 'spin': 9.0, 'event': <pylhe.LHEEvent object at 0x7efc264d4290>}\" texlbl=\"$\\overline{c}$\"]\n",
      "\t1 [label=<<table border=\"0\" cellspacing=\"0\" cellborder=\"0\"><tr><td>g</td></tr></table>> attr_dict=\"{'id': 21.0, 'status': -1.0, 'mother1': 0.0, 'mother2': 0.0, 'color1': 502.0, 'color2': 501.0, 'px': 0.0, 'py': 0.0, 'pz': -0.7764707284, 'e': 0.7764707284, 'm': 0.0, 'lifetime': 0.0, 'spin': 9.0, 'event': <pylhe.LHEEvent object at 0x7efc264d4290>}\" texlbl=\"$g$\"]\n",
      "\t2 [label=<<table border=\"0\" cellspacing=\"0\" cellborder=\"0\"><tr><td>Z<SUP>0</SUP></td></tr></table>> attr_dict=\"{'id': 23.0, 'status': 2.0, 'mother1': 1.0, 'mother2': 2.0, 'color1': 0.0, 'color2': 0.0, 'px': -0.2586998664, 'py': -0.1510185871, 'pz': 0.6026979797, 'e': 1.290320707, 'm': 1.100886206, 'lifetime': 0.0, 'spin': 9.0, 'event': <pylhe.LHEEvent object at 0x7efc264d4290>}\" texlbl=\"$Z^{0}$\"]\n",
      "\t3 [label=<<table border=\"0\" cellspacing=\"0\" cellborder=\"0\"><tr><td>e<SUP>-</SUP></td></tr></table>> attr_dict=\"{'id': 11.0, 'status': 1.0, 'mother1': 3.0, 'mother2': 3.0, 'color1': 0.0, 'color2': 0.0, 'px': -0.6211468495, 'py': -0.271205629, 'pz': 0.1429668701, 'e': 0.6926872952, 'm': 0.000511, 'lifetime': 0.0, 'spin': 9.0, 'event': <pylhe.LHEEvent object at 0x7efc264d4290>}\" texlbl=\"$e^{-}$\"]\n",
      "\t4 [label=<<table border=\"0\" cellspacing=\"0\" cellborder=\"0\"><tr><td>e<SUP>+</SUP></td></tr></table>> attr_dict=\"{'id': -11.0, 'status': 1.0, 'mother1': 3.0, 'mother2': 3.0, 'color1': 0.0, 'color2': 0.0, 'px': 0.3624469831, 'py': 0.1201870419, 'pz': 0.4597311097, 'e': 0.5976334118, 'm': 0.000511, 'lifetime': 0.0, 'spin': 9.0, 'event': <pylhe.LHEEvent object at 0x7efc264d4290>}\" texlbl=\"$e^{+}$\"]\n",
      "\t5 [label=<<table border=\"0\" cellspacing=\"0\" cellborder=\"0\"><tr><td>c&#773;</td></tr></table>> attr_dict=\"{'id': -4.0, 'status': 1.0, 'mother1': 1.0, 'mother2': 2.0, 'color1': 0.0, 'color2': 501.0, 'px': 0.2586998664, 'py': 0.1510185871, 'pz': -0.3808101262, 'e': 0.4845086034, 'm': 0.0, 'lifetime': 0.0, 'spin': 9.0, 'event': <pylhe.LHEEvent object at 0x7efc264d4290>}\" texlbl=\"$\\overline{c}$\"]\n",
      "\t0 -> 2\n",
      "\t1 -> 2\n",
      "\t2 -> 3\n",
      "\t2 -> 4\n",
      "\t0 -> 5\n",
      "\t1 -> 5\n",
      "}\n",
      "\n"
     ]
    },
    {
     "data": {
      "text/plain": [
       "'test.pdf'"
      ]
     },
     "execution_count": 4,
     "metadata": {},
     "output_type": "execute_result"
    }
   ],
   "source": [
    "import itertools\n",
    "import pylhe\n",
    "\n",
    "lhe_file = \"../tests/example.lhe\"\n",
    "events = pylhe.read_lhe_with_attributes(lhe_file)\n",
    "print(f\"Number of events: {pylhe.read_num_events(lhe_file)}\")\n",
    "\n",
    "# Get event 1\n",
    "event = next(itertools.islice(events, 1, 2))\n",
    "\n",
    "# A DOT language graph of the event can be inspected as follows\n",
    "print(event.graph.source)\n",
    "\n",
    "# The graph is nicely displayed as SVG in Jupyter notebooks\n",
    "event\n",
    "\n",
    "# To save a DOT graph render the graph to a supported image format\n",
    "# (refer to the Graphviz documentation for more)\n",
    "event.graph.render(filename=\"test\", format=\"png\", cleanup=True)\n",
    "event.graph.render(filename=\"test\", format=\"pdf\", cleanup=True)"
   ]
  },
  {
   "cell_type": "code",
   "execution_count": 5,
   "id": "ce542ece",
   "metadata": {},
   "outputs": [
    {
     "data": {
      "text/plain": [
       "<generator object read_lhe_with_attributes at 0x7efc26b0e400>"
      ]
     },
     "execution_count": 5,
     "metadata": {},
     "output_type": "execute_result"
    }
   ],
   "source": [
    "events"
   ]
  },
  {
   "cell_type": "code",
   "execution_count": 8,
   "id": "ece481e4",
   "metadata": {},
   "outputs": [
    {
     "name": "stdout",
     "output_type": "stream",
     "text": [
      "<pylhe.LHEEvent object at 0x7efc2631fc90>\n",
      "<pylhe.LHEEvent object at 0x7efc2631c650>\n",
      "WARNING. Parse Error: junk after document element: line 99, column 1\n"
     ]
    }
   ],
   "source": [
    "events = pylhe.read_lhe_with_attributes(lhe_file)\n",
    "for e in events:\n",
    "    print(e)"
   ]
  },
  {
   "cell_type": "code",
   "execution_count": null,
   "id": "7d9e74f9",
   "metadata": {},
   "outputs": [],
   "source": []
  }
 ],
 "metadata": {
  "kernelspec": {
   "display_name": "Python 3 (ipykernel)",
   "language": "python",
   "name": "python3"
  },
  "language_info": {
   "codemirror_mode": {
    "name": "ipython",
    "version": 3
   },
   "file_extension": ".py",
   "mimetype": "text/x-python",
   "name": "python",
   "nbconvert_exporter": "python",
   "pygments_lexer": "ipython3",
   "version": "3.11.3"
  }
 },
 "nbformat": 4,
 "nbformat_minor": 5
}
