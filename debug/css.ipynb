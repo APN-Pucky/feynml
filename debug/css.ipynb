{
 "cells": [
  {
   "cell_type": "code",
   "execution_count": 1,
   "id": "95c39488",
   "metadata": {},
   "outputs": [],
   "source": [
    "from feynml.feynmandiagram import FeynmanDiagram\n",
    "from feynml.feynml import FeynML, Head, Meta\n",
    "from feynml.leg import Leg\n",
    "from feynml.momentum import Momentum\n",
    "from feynml.propagator import Propagator\n",
    "from feynml.vertex import Vertex"
   ]
  },
  {
   "cell_type": "code",
   "execution_count": 2,
   "id": "9c3cabc8",
   "metadata": {},
   "outputs": [],
   "source": [
    "fml = FeynML.from_xml_file(\"../tests/test.fml\")"
   ]
  },
  {
   "cell_type": "code",
   "execution_count": 3,
   "id": "2e5abddc",
   "metadata": {},
   "outputs": [
    {
     "name": "stdout",
     "output_type": "stream",
     "text": [
      "<?xml version=\"1.0\" encoding=\"UTF-8\"?>\n",
      "<feynml version=\"0.1.7.22\">\n",
      "  <head>\n",
      "    <meta name=\"creator\" content=\"\"/>\n",
      "    <meta name=\"tool\" content=\"\"/>\n",
      "    <meta name=\"description\" content=\"\"/>\n",
      "    <meta name=\"feynml\" content=\"0.1.7.22\"/>\n",
      "    <link rel=\"stylesheet\" href=\"test_styles.css\"/>\n",
      "    <style/>\n",
      "  </head>\n",
      "  <diagram id=\"FeynmanDiagram7\" style=\"\" sheet=\"\">\n",
      "    <propagator id=\"P2\" type=\"photon\" style=\"\" label=\"Z\">\n",
      "      <source>V0</source>\n",
      "      <target>V1</target>\n",
      "    </propagator>\n",
      "    <propagator id=\"P4\" type=\"fermion\" style=\"\">\n",
      "      <source>V5</source>\n",
      "      <target>V1</target>\n",
      "    </propagator>\n",
      "    <propagator id=\"P5\" type=\"fermion\" style=\"\">\n",
      "      <source>V1</source>\n",
      "      <target>V6</target>\n",
      "    </propagator>\n",
      "    <propagator id=\"P7\" type=\"gluon\" style=\"parallel-arrow-displace: 0.2\" label=\"g\">\n",
      "      <source>V5</source>\n",
      "      <target>V6</target>\n",
      "    </propagator>\n",
      "    <vertex id=\"V0\" style=\"\" x=\"-2.0\" y=\"0.0\"/>\n",
      "    <vertex id=\"V1\" style=\"\" x=\"2.0\" y=\"0.0\"/>\n",
      "    <vertex id=\"V5\" style=\"\" x=\"3.0\" y=\"-1.0\"/>\n",
      "    <vertex id=\"V6\" style=\"\" x=\"3.0\" y=\"1.0\"/>\n",
      "    <leg id=\"E0\" type=\"fermion\" style=\"arrow-pos: 0.53\" label=\"e-\" x=\"-4.0\" y=\"2.0\">\n",
      "      <target>V0</target>\n",
      "      <sense>incoming</sense>\n",
      "    </leg>\n",
      "    <leg id=\"E1\" type=\"fermion\" style=\"arrow-pos: 0.53; parallel-arrow-displace: -0.06; parallel-arrow-sense: -1\" label=\"e+\" x=\"-4.0\" y=\"-2.0\">\n",
      "      <target>V0</target>\n",
      "      <sense>outgoing</sense>\n",
      "    </leg>\n",
      "    <leg id=\"E2\" type=\"fermion\" style=\"arrow-pos: 0.53; parallel-arrow-displace: -0.06; parallel-arrow-sense: -1\" label=\"q\" x=\"4.0\" y=\"-2.0\">\n",
      "      <target>V5</target>\n",
      "      <sense>incoming</sense>\n",
      "    </leg>\n",
      "    <leg id=\"E3\" type=\"fermion\" style=\"arrow-pos: 0.53\" label=\"q\" x=\"4.0\" y=\"2.0\">\n",
      "      <target>V6</target>\n",
      "      <sense>outgoing</sense>\n",
      "    </leg>\n",
      "  </diagram>\n",
      "</feynml>\n",
      "\n"
     ]
    }
   ],
   "source": [
    "print(fml.to_xml())"
   ]
  },
  {
   "cell_type": "code",
   "execution_count": 4,
   "id": "a3e56f57",
   "metadata": {},
   "outputs": [
    {
     "data": {
      "text/plain": [
       "{'stylesheet': '* {\\n  color: red;\\n}\\n\\n[type=fermion] {\\n  line: gluon;\\n  arrow-sense: 1;\\n  color: green;\\n}\\n'}"
      ]
     },
     "execution_count": 4,
     "metadata": {},
     "output_type": "execute_result"
    }
   ],
   "source": [
    "fml.head.get_link_dict()"
   ]
  },
  {
   "cell_type": "code",
   "execution_count": null,
   "id": "50f297b1",
   "metadata": {},
   "outputs": [],
   "source": []
  }
 ],
 "metadata": {
  "kernelspec": {
   "display_name": "Python 3 (ipykernel)",
   "language": "python",
   "name": "python3"
  },
  "language_info": {
   "codemirror_mode": {
    "name": "ipython",
    "version": 3
   },
   "file_extension": ".py",
   "mimetype": "text/x-python",
   "name": "python",
   "nbconvert_exporter": "python",
   "pygments_lexer": "ipython3",
   "version": "3.11.3"
  }
 },
 "nbformat": 4,
 "nbformat_minor": 5
}
