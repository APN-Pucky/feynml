{
 "cells": [
  {
   "cell_type": "code",
   "execution_count": 1,
   "id": "14c74852",
   "metadata": {},
   "outputs": [],
   "source": [
    "from feynml.feynml import FeynML"
   ]
  },
  {
   "cell_type": "code",
   "execution_count": 2,
   "id": "e93f635a",
   "metadata": {},
   "outputs": [],
   "source": [
    "fml = FeynML.from_xml_file(\"../tests/test.fml\")\n",
    "fml.head.links[\n",
    "    0\n",
    "].href = (\n",
    "    \"https://raw.githubusercontent.com/APN-Pucky/feynml/master/tests/test_styles.css\"\n",
    ")"
   ]
  },
  {
   "cell_type": "code",
   "execution_count": 3,
   "id": "7c1c2f72",
   "metadata": {},
   "outputs": [
    {
     "name": "stdout",
     "output_type": "stream",
     "text": [
      "<?xml version=\"1.0\" encoding=\"UTF-8\"?>\n",
      "<feynml version=\"0.2.0.1\">\n",
      "  <head>\n",
      "    <meta name=\"creator\" content=\"\"/>\n",
      "    <meta name=\"tool\" content=\"\"/>\n",
      "    <meta name=\"description\" content=\"\"/>\n",
      "    <meta name=\"feynml\" content=\"0.2.0.1\"/>\n",
      "    <link rel=\"stylesheet\" href=\"https://raw.githubusercontent.com/APN-Pucky/feynml/master/tests/test_styles.css\"/>\n",
      "    <style/>\n",
      "  </head>\n",
      "  <diagram id=\"FeynmanDiagram7\" style=\"\" sheet=\"\">\n",
      "    <propagator id=\"P2\" type=\"photon\" style=\"\" label=\"Z\">\n",
      "      <source>V0</source>\n",
      "      <target>V1</target>\n",
      "    </propagator>\n",
      "    <propagator id=\"P4\" type=\"fermion\" style=\"\">\n",
      "      <source>V5</source>\n",
      "      <target>V1</target>\n",
      "    </propagator>\n",
      "    <propagator id=\"P5\" type=\"fermion\" style=\"\">\n",
      "      <source>V1</source>\n",
      "      <target>V6</target>\n",
      "    </propagator>\n",
      "    <propagator id=\"P7\" type=\"gluon\" style=\"parallel-arrow-displace: 0.2\" label=\"g\">\n",
      "      <source>V5</source>\n",
      "      <target>V6</target>\n",
      "    </propagator>\n",
      "    <vertex id=\"V0\" style=\"\" x=\"-2.0\" y=\"0.0\"/>\n",
      "    <vertex id=\"V1\" style=\"\" x=\"2.0\" y=\"0.0\"/>\n",
      "    <vertex id=\"V5\" style=\"\" x=\"3.0\" y=\"-1.0\"/>\n",
      "    <vertex id=\"V6\" style=\"\" x=\"3.0\" y=\"1.0\"/>\n",
      "    <leg id=\"E0\" type=\"fermion\" style=\"arrow-pos: 0.53\" label=\"e-\" x=\"-4.0\" y=\"2.0\">\n",
      "      <target>V0</target>\n",
      "      <sense>incoming</sense>\n",
      "    </leg>\n",
      "    <leg id=\"E1\" type=\"fermion\" style=\"arrow-pos: 0.53; parallel-arrow-displace: -0.06; parallel-arrow-sense: -1\" label=\"e+\" x=\"-4.0\" y=\"-2.0\">\n",
      "      <target>V0</target>\n",
      "      <sense>outgoing</sense>\n",
      "    </leg>\n",
      "    <leg id=\"E2\" type=\"fermion\" style=\"arrow-pos: 0.53; parallel-arrow-displace: -0.06; parallel-arrow-sense: -1\" label=\"q\" x=\"4.0\" y=\"-2.0\">\n",
      "      <target>V5</target>\n",
      "      <sense>incoming</sense>\n",
      "    </leg>\n",
      "    <leg id=\"E3\" type=\"fermion\" style=\"arrow-pos: 0.53\" label=\"q\" x=\"4.0\" y=\"2.0\">\n",
      "      <target>V6</target>\n",
      "      <sense>outgoing</sense>\n",
      "    </leg>\n",
      "  </diagram>\n",
      "</feynml>\n",
      "\n"
     ]
    }
   ],
   "source": [
    "print(fml.to_xml())"
   ]
  },
  {
   "cell_type": "code",
   "execution_count": 4,
   "id": "42f44831",
   "metadata": {},
   "outputs": [
    {
     "name": "stdout",
     "output_type": "stream",
     "text": [
      "Direct\n",
      "* {\n",
      "  color: red;\n",
      "}\n",
      "\n",
      "[type=fermion] {\n",
      "  line: gluon;\n",
      "  arrow-sense: 1;\n",
      "  color: green;\n",
      "}\n",
      "\n"
     ]
    },
    {
     "data": {
      "text/plain": [
       "b'* {\\n    color: red\\n    }\\n[type=fermion] {\\n    line: gluon;\\n    arrow-sense: 1;\\n    color: green\\n    }'"
      ]
     },
     "execution_count": 4,
     "metadata": {},
     "output_type": "execute_result"
    }
   ],
   "source": [
    "fml.head.get_link_dict()[\"stylesheet\"].cssText"
   ]
  },
  {
   "cell_type": "code",
   "execution_count": 5,
   "id": "53dcdd28",
   "metadata": {},
   "outputs": [],
   "source": [
    "import smpl_io.io as io"
   ]
  },
  {
   "cell_type": "code",
   "execution_count": 6,
   "id": "6678389e",
   "metadata": {},
   "outputs": [
    {
     "data": {
      "text/plain": [
       "'* {\\n  color: red;\\n}\\n\\n[type=fermion] {\\n  line: gluon;\\n  arrow-sense: 1;\\n  color: green;\\n}\\n'"
      ]
     },
     "execution_count": 6,
     "metadata": {},
     "output_type": "execute_result"
    }
   ],
   "source": [
    "io.read(\n",
    "    \"https://raw.githubusercontent.com/APN-Pucky/feynml/master/tests/test_styles.css\"\n",
    ")"
   ]
  },
  {
   "cell_type": "code",
   "execution_count": 7,
   "id": "4ba95b3d",
   "metadata": {},
   "outputs": [
    {
     "data": {
      "text/plain": [
       "'1.1.2'"
      ]
     },
     "execution_count": 7,
     "metadata": {},
     "output_type": "execute_result"
    }
   ],
   "source": [
    "import smpl_io as sio\n",
    "\n",
    "sio.__version__"
   ]
  },
  {
   "cell_type": "code",
   "execution_count": null,
   "id": "1ac72c80",
   "metadata": {},
   "outputs": [],
   "source": []
  }
 ],
 "metadata": {
  "kernelspec": {
   "display_name": "Python 3 (ipykernel)",
   "language": "python",
   "name": "python3"
  },
  "language_info": {
   "codemirror_mode": {
    "name": "ipython",
    "version": 3
   },
   "file_extension": ".py",
   "mimetype": "text/x-python",
   "name": "python",
   "nbconvert_exporter": "python",
   "pygments_lexer": "ipython3",
   "version": "3.11.3"
  }
 },
 "nbformat": 4,
 "nbformat_minor": 5
}
