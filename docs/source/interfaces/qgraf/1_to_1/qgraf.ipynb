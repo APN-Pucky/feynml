{
 "cells": [
  {
   "cell_type": "markdown",
   "id": "dd3c9519",
   "metadata": {},
   "source": [
    "# 1 to 1 process"
   ]
  },
  {
   "cell_type": "code",
   "execution_count": 1,
   "id": "b35a693f",
   "metadata": {},
   "outputs": [],
   "source": [
    "from smpl import io"
   ]
  },
  {
   "cell_type": "code",
   "execution_count": 2,
   "id": "8fdd58fc",
   "metadata": {},
   "outputs": [],
   "source": [
    "from pyfeyn2.interface.qgraf import style\n",
    "import itertools as it\n",
    "import re"
   ]
  },
  {
   "cell_type": "code",
   "execution_count": 3,
   "id": "1c37732f",
   "metadata": {
    "scrolled": false
   },
   "outputs": [
    {
     "name": "stderr",
     "output_type": "stream",
     "text": [
      "/home/apn/data/de.neuwirthinformatik.Alexander/Development/git/pyqgraf/pyqgraf/qgraf.py:87: UserWarning: \n",
      "\tPlease cite the following papers if you use this code:\n",
      "\n",
      "      [1] Automatic Feynman graph generation J. Comput. Phys. 105 (1993) 279--289 https://doi.org/10.1006/jcph.1993.1074\n",
      "\n",
      "      [2] Abusing Qgraf Nucl. Instrum. Methods Phys. Res. A 559 (2006) 220--223 https://doi.org/10.1016/j.nima.2005.11.151\n",
      "\n",
      "      [3] Feynman graph generation and propagator mixing, I Comput. Phys. Commun. 269 (2021) 108103 https://doi.org/10.1016/j.cpc.2021.108103\n",
      "\n",
      "\t\n",
      "  warnings.warn(\n"
     ]
    },
    {
     "name": "stdout",
     "output_type": "stream",
     "text": [
      "\n",
      "\n",
      "--------------------------------------------------------------------------------\n",
      "-- Trying \"Ninja\" generator\n",
      "--------------------------------\n",
      "---------------------------\n",
      "----------------------\n",
      "-----------------\n",
      "------------\n",
      "-------\n",
      "--\n",
      "Not searching for unused variables given on the command line.\n",
      "-- The C compiler identification is GNU 11.3.1\n",
      "-- Detecting C compiler ABI info\n",
      "-- Detecting C compiler ABI info - done\n",
      "-- Check for working C compiler: /usr/bin/cc - skipped\n",
      "-- Detecting C compile features\n",
      "-- Detecting C compile features - done\n",
      "-- The CXX compiler identification is GNU 11.3.1\n",
      "-- Detecting CXX compiler ABI info\n",
      "-- Detecting CXX compiler ABI info - done\n",
      "-- Check for working CXX compiler: /usr/bin/c++ - skipped\n",
      "-- Detecting CXX compile features\n",
      "-- Detecting CXX compile features - done\n",
      "-- Configuring done\n",
      "-- Generating done\n",
      "-- Build files have been written to: /tmp/tmp7gc7tmtq/_cmake_test_compile/build\n",
      "--\n",
      "-------\n",
      "------------\n",
      "-----------------\n",
      "----------------------\n",
      "---------------------------\n",
      "--------------------------------\n",
      "-- Trying \"Ninja\" generator - success\n",
      "--------------------------------------------------------------------------------\n",
      "\n",
      "Configuring Project\n",
      "  Working directory:\n",
      "    /tmp/tmp7gc7tmtq/_skbuild/linux-x86_64-3.9/cmake-build\n",
      "  Command:\n",
      "    cmake /tmp/tmp7gc7tmtq -G Ninja -DCMAKE_INSTALL_PREFIX:PATH=/tmp/tmp7gc7tmtq/_skbuild/linux-x86_64-3.9/cmake-install -DPYTHON_VERSION_STRING:STRING=3.9.16 -DSKBUILD:INTERNAL=TRUE -DCMAKE_MODULE_PATH:PATH=/home/apn/.cache/pypoetry/virtualenvs/pyfeyn2-CEvJ4jFG-py3.9/lib/python3.9/site-packages/skbuild/resources/cmake -DPYTHON_EXECUTABLE:PATH=/home/apn/.cache/pypoetry/virtualenvs/pyfeyn2-CEvJ4jFG-py3.9/bin/python -DPYTHON_INCLUDE_DIR:PATH=/usr/include/python3.9 -DPYTHON_LIBRARY:PATH=/usr/lib64/libpython3.9.so -DPython_EXECUTABLE:PATH=/home/apn/.cache/pypoetry/virtualenvs/pyfeyn2-CEvJ4jFG-py3.9/bin/python -DPython_ROOT_DIR:PATH=/home/apn/.cache/pypoetry/virtualenvs/pyfeyn2-CEvJ4jFG-py3.9 -DPython_INCLUDE_DIR:PATH=/usr/include/python3.9 -DPython_FIND_REGISTRY:STRING=NEVER -DPython_NumPy_INCLUDE_DIRS:PATH=/home/apn/.cache/pypoetry/virtualenvs/pyfeyn2-CEvJ4jFG-py3.9/lib/python3.9/site-packages/numpy/core/include -DPython3_EXECUTABLE:PATH=/home/apn/.cache/pypoetry/virtualenvs/pyfeyn2-CEvJ4jFG-py3.9/bin/python -DPython3_ROOT_DIR:PATH=/home/apn/.cache/pypoetry/virtualenvs/pyfeyn2-CEvJ4jFG-py3.9 -DPython3_INCLUDE_DIR:PATH=/usr/include/python3.9 -DPython3_FIND_REGISTRY:STRING=NEVER -DPython3_NumPy_INCLUDE_DIRS:PATH=/home/apn/.cache/pypoetry/virtualenvs/pyfeyn2-CEvJ4jFG-py3.9/lib/python3.9/site-packages/numpy/core/include -DCMAKE_INSTALL_PREFIX=/tmp/tmp7gc7tmtq\n",
      "\n",
      "-- The Fortran compiler identification is GNU 11.3.1\n",
      "-- Detecting Fortran compiler ABI info\n",
      "-- Detecting Fortran compiler ABI info - done\n",
      "-- Check for working Fortran compiler: /usr/bin/gfortran - skipped\n",
      "-- The C compiler identification is GNU 11.3.1\n",
      "-- The CXX compiler identification is GNU 11.3.1\n",
      "-- Detecting C compiler ABI info\n",
      "-- Detecting C compiler ABI info - done\n",
      "-- Check for working C compiler: /usr/bin/cc - skipped\n",
      "-- Detecting C compile features\n",
      "-- Detecting C compile features - done\n",
      "-- Detecting CXX compiler ABI info\n",
      "-- Detecting CXX compiler ABI info - done\n",
      "-- Check for working CXX compiler: /usr/bin/c++ - skipped\n",
      "-- Detecting CXX compile features\n",
      "-- Detecting CXX compile features - done\n",
      "-- Configuring done\n",
      "-- Generating done\n",
      "-- Build files have been written to: /tmp/tmp7gc7tmtq/_skbuild/linux-x86_64-3.9/cmake-build\n",
      "[1/5] Building Fortran preprocessed CMakeFiles/qgraf.dir/qgraf-3.6.5.f08-pp.f08\n",
      "[2/5] Generating Fortran dyndep file CMakeFiles/qgraf.dir/Fortran.dd\n"
     ]
    },
    {
     "name": "stderr",
     "output_type": "stream",
     "text": [
      "\u001b[33mCMake Warning:\n",
      "  Manually-specified variables were not used by the project:\n",
      "\n",
      "    PYTHON_EXECUTABLE\n",
      "    PYTHON_INCLUDE_DIR\n",
      "    PYTHON_LIBRARY\n",
      "    PYTHON_VERSION_STRING\n",
      "    Python3_EXECUTABLE\n",
      "    Python3_FIND_REGISTRY\n",
      "    Python3_INCLUDE_DIR\n",
      "    Python3_NumPy_INCLUDE_DIRS\n",
      "    Python3_ROOT_DIR\n",
      "    Python_EXECUTABLE\n",
      "    Python_FIND_REGISTRY\n",
      "    Python_INCLUDE_DIR\n",
      "    Python_NumPy_INCLUDE_DIRS\n",
      "    Python_ROOT_DIR\n",
      "    SKBUILD\n",
      "\n",
      "\u001b[0m\n"
     ]
    },
    {
     "name": "stdout",
     "output_type": "stream",
     "text": [
      "[3/5] Building Fortran object CMakeFiles/qgraf.dir/qgraf-3.6.5.f08.o\n",
      "[4/5] Linking Fortran executable qgraf\n",
      "[4/5] Install the project...\n",
      "-- Install configuration: \"\"\n",
      "-- Installing: /tmp/tmp7gc7tmtq/bin/qgraf\n",
      "/home/apn/.local/bin/qgraf-3.6.5 qgraf.dat\n",
      "\n",
      " --------------------------------------------------------------\n",
      "                          qgraf-3.6.5\n",
      " --------------------------------------------------------------\n",
      "\n",
      "  output= 'output.out' ;\n",
      "  style= 'tmp.sty' ;\n",
      "  model = 'tmp.model';\n",
      "  in= nu_e[p1];\n",
      "  out= nu_e[p1];\n",
      "  loops= 3;\n",
      "  loop_momentum= l;\n",
      "  options= notadpole,onshell;\n",
      "\n",
      " --------------------------------------------------------------\n",
      "\n",
      "   #loops    v-degrees          #diagrams\n",
      "\n",
      "      3\n",
      "              -   4^3     ....     0\n",
      "             3^2  4^2     ....     3\n",
      "             3^4  4^1     ....     36\n",
      "             3^6   -      ....     365\n",
      "\n",
      "\n",
      "        total =  404 connected diagrams\n",
      "\n"
     ]
    }
   ],
   "source": [
    "from pyqgraf import qgraf, model\n",
    "qgraf.install(\"3.6.5\")\n",
    "xml_string = qgraf.run(\"nu_e[p1]\", \"nu_e[p1]\",loops=3,loop_momentum=\"l\",model = model.gws_UnitaryGauge_reduced, style=style)"
   ]
  },
  {
   "cell_type": "code",
   "execution_count": 4,
   "id": "23fe988d",
   "metadata": {
    "scrolled": false
   },
   "outputs": [
    {
     "name": "stdout",
     "output_type": "stream",
     "text": [
      "single photon diags 99\n"
     ]
    },
    {
     "data": {
      "image/png": "[encoded data removed]",
      "text/plain": [
       "<wand.image.Image: 82c73f6 'PDF' (540x307)>"
      ]
     },
     "metadata": {},
     "output_type": "display_data"
    },
    {
     "ename": "KeyboardInterrupt",
     "evalue": "",
     "output_type": "error",
     "traceback": [
      "\u001b[0;31m---------------------------------------------------------------------------\u001b[0m",
      "\u001b[0;31mKeyboardInterrupt\u001b[0m                         Traceback (most recent call last)",
      "Cell \u001b[0;32mIn[4], line 46\u001b[0m\n\u001b[1;32m     44\u001b[0m t \u001b[38;5;241m=\u001b[39m TikzFeynmanRender(d)\n\u001b[1;32m     45\u001b[0m \u001b[38;5;66;03m#print(t.get_src())\u001b[39;00m\n\u001b[0;32m---> 46\u001b[0m \u001b[43mt\u001b[49m\u001b[38;5;241;43m.\u001b[39;49m\u001b[43mrender\u001b[49m\u001b[43m(\u001b[49m\u001b[43mshow\u001b[49m\u001b[38;5;241;43m=\u001b[39;49m\u001b[38;5;28;43;01mTrue\u001b[39;49;00m\u001b[43m)\u001b[49m\n\u001b[1;32m     47\u001b[0m \u001b[38;5;66;03m#break\u001b[39;00m\n",
      "File \u001b[0;32m~/data/de.neuwirthinformatik.Alexander/Development/git/pyfeyn2/pyfeyn2/render/latex/latex.py:55\u001b[0m, in \u001b[0;36mLatexRender.render\u001b[0;34m(self, file, show, resolution, width, height, clean_up)\u001b[0m\n\u001b[1;32m     53\u001b[0m     file \u001b[38;5;241m=\u001b[39m \u001b[38;5;124m\"\u001b[39m\u001b[38;5;124mtmp\u001b[39m\u001b[38;5;124m\"\u001b[39m\n\u001b[1;32m     54\u001b[0m file \u001b[38;5;241m=\u001b[39m re\u001b[38;5;241m.\u001b[39msub(\u001b[38;5;124m\"\u001b[39m\u001b[38;5;124m\\\u001b[39m\u001b[38;5;124m.pdf$\u001b[39m\u001b[38;5;124m\"\u001b[39m, \u001b[38;5;124m\"\u001b[39m\u001b[38;5;124m\"\u001b[39m, file\u001b[38;5;241m.\u001b[39mstrip())\n\u001b[0;32m---> 55\u001b[0m \u001b[38;5;28;43mself\u001b[39;49m\u001b[38;5;241;43m.\u001b[39;49m\u001b[43mgenerate_pdf\u001b[49m\u001b[43m(\u001b[49m\n\u001b[1;32m     56\u001b[0m \u001b[43m    \u001b[49m\u001b[43mfile\u001b[49m\u001b[43m,\u001b[49m\n\u001b[1;32m     57\u001b[0m \u001b[43m    \u001b[49m\u001b[43mclean_tex\u001b[49m\u001b[38;5;241;43m=\u001b[39;49m\u001b[43mclean_up\u001b[49m\u001b[43m,\u001b[49m\n\u001b[1;32m     58\u001b[0m \u001b[43m    \u001b[49m\u001b[43mcompiler\u001b[49m\u001b[38;5;241;43m=\u001b[39;49m\u001b[38;5;124;43m\"\u001b[39;49m\u001b[38;5;124;43mlualatex\u001b[39;49m\u001b[38;5;124;43m\"\u001b[39;49m\u001b[43m,\u001b[49m\n\u001b[1;32m     59\u001b[0m \u001b[43m    \u001b[49m\u001b[43mcompiler_args\u001b[49m\u001b[38;5;241;43m=\u001b[39;49m\u001b[43m[\u001b[49m\u001b[38;5;124;43m\"\u001b[39;49m\u001b[38;5;124;43m-shell-escape\u001b[39;49m\u001b[38;5;124;43m\"\u001b[39;49m\u001b[43m]\u001b[49m\u001b[43m,\u001b[49m\n\u001b[1;32m     60\u001b[0m \u001b[43m\u001b[49m\u001b[43m)\u001b[49m\n\u001b[1;32m     61\u001b[0m wi \u001b[38;5;241m=\u001b[39m WImage(\n\u001b[1;32m     62\u001b[0m     filename\u001b[38;5;241m=\u001b[39mfile \u001b[38;5;241m+\u001b[39m \u001b[38;5;124m\"\u001b[39m\u001b[38;5;124m.pdf\u001b[39m\u001b[38;5;124m\"\u001b[39m, resolution\u001b[38;5;241m=\u001b[39mresolution, width\u001b[38;5;241m=\u001b[39mwidth, height\u001b[38;5;241m=\u001b[39mheight\n\u001b[1;32m     63\u001b[0m )\n\u001b[1;32m     64\u001b[0m \u001b[38;5;28;01mif\u001b[39;00m delete:\n",
      "File \u001b[0;32m~/.cache/pypoetry/virtualenvs/pyfeyn2-CEvJ4jFG-py3.9/lib/python3.9/site-packages/pylatex/document.py:250\u001b[0m, in \u001b[0;36mDocument.generate_pdf\u001b[0;34m(self, filepath, clean, clean_tex, compiler, compiler_args, silent)\u001b[0m\n\u001b[1;32m    247\u001b[0m command \u001b[38;5;241m=\u001b[39m [compiler] \u001b[38;5;241m+\u001b[39m arguments \u001b[38;5;241m+\u001b[39m compiler_args \u001b[38;5;241m+\u001b[39m main_arguments\n\u001b[1;32m    249\u001b[0m \u001b[38;5;28;01mtry\u001b[39;00m:\n\u001b[0;32m--> 250\u001b[0m     output \u001b[38;5;241m=\u001b[39m \u001b[43msubprocess\u001b[49m\u001b[38;5;241;43m.\u001b[39;49m\u001b[43mcheck_output\u001b[49m\u001b[43m(\u001b[49m\u001b[43mcommand\u001b[49m\u001b[43m,\u001b[49m\n\u001b[1;32m    251\u001b[0m \u001b[43m                                     \u001b[49m\u001b[43mstderr\u001b[49m\u001b[38;5;241;43m=\u001b[39;49m\u001b[43msubprocess\u001b[49m\u001b[38;5;241;43m.\u001b[39;49m\u001b[43mSTDOUT\u001b[49m\u001b[43m,\u001b[49m\n\u001b[1;32m    252\u001b[0m \u001b[43m                                     \u001b[49m\u001b[38;5;241;43m*\u001b[39;49m\u001b[38;5;241;43m*\u001b[39;49m\u001b[43mcheck_output_kwargs\u001b[49m\u001b[43m)\u001b[49m\n\u001b[1;32m    253\u001b[0m \u001b[38;5;28;01mexcept\u001b[39;00m (\u001b[38;5;167;01mOSError\u001b[39;00m, \u001b[38;5;167;01mIOError\u001b[39;00m) \u001b[38;5;28;01mas\u001b[39;00m e:\n\u001b[1;32m    254\u001b[0m     \u001b[38;5;66;03m# Use FileNotFoundError when python 2 is dropped\u001b[39;00m\n\u001b[1;32m    255\u001b[0m     os_error \u001b[38;5;241m=\u001b[39m e\n",
      "File \u001b[0;32m/usr/lib/python3.9/subprocess.py:424\u001b[0m, in \u001b[0;36mcheck_output\u001b[0;34m(timeout, *popenargs, **kwargs)\u001b[0m\n\u001b[1;32m    421\u001b[0m         empty \u001b[38;5;241m=\u001b[39m \u001b[38;5;124mb\u001b[39m\u001b[38;5;124m'\u001b[39m\u001b[38;5;124m'\u001b[39m\n\u001b[1;32m    422\u001b[0m     kwargs[\u001b[38;5;124m'\u001b[39m\u001b[38;5;124minput\u001b[39m\u001b[38;5;124m'\u001b[39m] \u001b[38;5;241m=\u001b[39m empty\n\u001b[0;32m--> 424\u001b[0m \u001b[38;5;28;01mreturn\u001b[39;00m \u001b[43mrun\u001b[49m\u001b[43m(\u001b[49m\u001b[38;5;241;43m*\u001b[39;49m\u001b[43mpopenargs\u001b[49m\u001b[43m,\u001b[49m\u001b[43m \u001b[49m\u001b[43mstdout\u001b[49m\u001b[38;5;241;43m=\u001b[39;49m\u001b[43mPIPE\u001b[49m\u001b[43m,\u001b[49m\u001b[43m \u001b[49m\u001b[43mtimeout\u001b[49m\u001b[38;5;241;43m=\u001b[39;49m\u001b[43mtimeout\u001b[49m\u001b[43m,\u001b[49m\u001b[43m \u001b[49m\u001b[43mcheck\u001b[49m\u001b[38;5;241;43m=\u001b[39;49m\u001b[38;5;28;43;01mTrue\u001b[39;49;00m\u001b[43m,\u001b[49m\n\u001b[1;32m    425\u001b[0m \u001b[43m           \u001b[49m\u001b[38;5;241;43m*\u001b[39;49m\u001b[38;5;241;43m*\u001b[39;49m\u001b[43mkwargs\u001b[49m\u001b[43m)\u001b[49m\u001b[38;5;241m.\u001b[39mstdout\n",
      "File \u001b[0;32m/usr/lib/python3.9/subprocess.py:507\u001b[0m, in \u001b[0;36mrun\u001b[0;34m(input, capture_output, timeout, check, *popenargs, **kwargs)\u001b[0m\n\u001b[1;32m    505\u001b[0m \u001b[38;5;28;01mwith\u001b[39;00m Popen(\u001b[38;5;241m*\u001b[39mpopenargs, \u001b[38;5;241m*\u001b[39m\u001b[38;5;241m*\u001b[39mkwargs) \u001b[38;5;28;01mas\u001b[39;00m process:\n\u001b[1;32m    506\u001b[0m     \u001b[38;5;28;01mtry\u001b[39;00m:\n\u001b[0;32m--> 507\u001b[0m         stdout, stderr \u001b[38;5;241m=\u001b[39m \u001b[43mprocess\u001b[49m\u001b[38;5;241;43m.\u001b[39;49m\u001b[43mcommunicate\u001b[49m\u001b[43m(\u001b[49m\u001b[38;5;28;43minput\u001b[39;49m\u001b[43m,\u001b[49m\u001b[43m \u001b[49m\u001b[43mtimeout\u001b[49m\u001b[38;5;241;43m=\u001b[39;49m\u001b[43mtimeout\u001b[49m\u001b[43m)\u001b[49m\n\u001b[1;32m    508\u001b[0m     \u001b[38;5;28;01mexcept\u001b[39;00m TimeoutExpired \u001b[38;5;28;01mas\u001b[39;00m exc:\n\u001b[1;32m    509\u001b[0m         process\u001b[38;5;241m.\u001b[39mkill()\n",
      "File \u001b[0;32m/usr/lib/python3.9/subprocess.py:1121\u001b[0m, in \u001b[0;36mPopen.communicate\u001b[0;34m(self, input, timeout)\u001b[0m\n\u001b[1;32m   1119\u001b[0m     \u001b[38;5;28mself\u001b[39m\u001b[38;5;241m.\u001b[39m_stdin_write(\u001b[38;5;28minput\u001b[39m)\n\u001b[1;32m   1120\u001b[0m \u001b[38;5;28;01melif\u001b[39;00m \u001b[38;5;28mself\u001b[39m\u001b[38;5;241m.\u001b[39mstdout:\n\u001b[0;32m-> 1121\u001b[0m     stdout \u001b[38;5;241m=\u001b[39m \u001b[38;5;28;43mself\u001b[39;49m\u001b[38;5;241;43m.\u001b[39;49m\u001b[43mstdout\u001b[49m\u001b[38;5;241;43m.\u001b[39;49m\u001b[43mread\u001b[49m\u001b[43m(\u001b[49m\u001b[43m)\u001b[49m\n\u001b[1;32m   1122\u001b[0m     \u001b[38;5;28mself\u001b[39m\u001b[38;5;241m.\u001b[39mstdout\u001b[38;5;241m.\u001b[39mclose()\n\u001b[1;32m   1123\u001b[0m \u001b[38;5;28;01melif\u001b[39;00m \u001b[38;5;28mself\u001b[39m\u001b[38;5;241m.\u001b[39mstderr:\n",
      "\u001b[0;31mKeyboardInterrupt\u001b[0m: "
     ]
    }
   ],
   "source": [
    "from xsdata.formats.dataclass.parsers import XmlParser\n",
    "from pyfeyn2.render.latex.feynmp import FeynmpRender\n",
    "from pyfeyn2.render.latex.tikzfeynman import TikzFeynmanRender\n",
    "from pyfeyn2.render.pyx.pyxrender import PyxRender\n",
    "from pyfeyn2.feynmandiagram import FeynML\n",
    "\n",
    "from pyfeyn2.auto.bend import auto_bend\n",
    "from pyfeyn2.auto.label import auto_label\n",
    "from pyfeyn2.auto.position import feynman_adjust_points\n",
    "\n",
    "parser = XmlParser()\n",
    "fml = parser.from_string(xml_string, FeynML)\n",
    "\n",
    "def filter_diag(d):\n",
    "    count = 0\n",
    "    ecount = 0\n",
    "    for p in d.propagators:\n",
    "        if p.pdgid == 22:\n",
    "            count +=1\n",
    "        if p.pdgid == 11:\n",
    "            ecount +=1\n",
    "    if count ==1 and ecount >=2:\n",
    "        return True\n",
    "    return False\n",
    "\n",
    "ccount=0 \n",
    "for d in fml.diagrams:\n",
    "    if filter_diag(d):\n",
    "        ccount +=1\n",
    "print(\"single photon diags\", ccount)\n",
    "\n",
    "for d in fml.diagrams:\n",
    "    if filter_diag(d):\n",
    "        ccount +=1\n",
    "        d.legs[0].with_xy(-2,0)\n",
    "        d.legs[1].with_xy(2,0)\n",
    "        d.get_vertex(d.legs[0].target).with_xy(-1,0)\n",
    "        d.get_vertex(d.legs[1].target).with_xy(1,0)\n",
    "        d = feynman_adjust_points(d,size=15,override_vertices=False)\n",
    "        auto_bend(d)\n",
    "        auto_label(d.propagators)\n",
    "        auto_label(d.legs)\n",
    "        #print(d)\n",
    "        t = TikzFeynmanRender(d)\n",
    "        #print(t.get_src())\n",
    "        t.render(show=True)\n",
    "        #break"
   ]
  },
  {
   "cell_type": "code",
   "execution_count": null,
   "id": "ab4399ea",
   "metadata": {},
   "outputs": [],
   "source": [
    "print(xml_string)"
   ]
  },
  {
   "cell_type": "code",
   "execution_count": null,
   "id": "6cb264a7",
   "metadata": {},
   "outputs": [],
   "source": []
  }
 ],
 "metadata": {
  "kernelspec": {
   "display_name": "Python 3 (ipykernel)",
   "language": "python",
   "name": "python3"
  },
  "language_info": {
   "codemirror_mode": {
    "name": "ipython",
    "version": 3
   },
   "file_extension": ".py",
   "mimetype": "text/x-python",
   "name": "python",
   "nbconvert_exporter": "python",
   "pygments_lexer": "ipython3",
   "version": "3.9.16"
  }
 },
 "nbformat": 4,
 "nbformat_minor": 5
}
