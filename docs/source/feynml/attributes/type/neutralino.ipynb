{
 "cells": [
  {
   "cell_type": "markdown",
   "id": "9ef31ea2",
   "metadata": {},
   "source": [
    "# neutralino"
   ]
  },
  {
   "cell_type": "code",
   "execution_count": 1,
   "id": "48edf7ba",
   "metadata": {},
   "outputs": [
    {
     "name": "stdout",
     "output_type": "stream",
     "text": [
      "Pyx:\n",
      "Pyx failed: 'neutralino'\n",
      "Tikz:\n"
     ]
    },
    {
     "data": {
      "image/png": "[encoded data removed]",
      "text/plain": [
       "<wand.image.Image: f12cd6e 'PDF' (167x167)>"
      ]
     },
     "metadata": {},
     "output_type": "display_data"
    },
    {
     "name": "stdout",
     "output_type": "stream",
     "text": [
      "Feynmp:\n",
      "Feynmp failed: 'neutralino'\n",
      "Dot:\n",
      "Dot failed: 'neutralino'\n",
      "ASCIIPDF:\n",
      "ASCIIPDF failed: 'neutralino'\n",
      "MPL:\n",
      "MPL failed: 'neutralino'\n"
     ]
    }
   ],
   "source": [
    "from pyfeyn2.render.all import AllRender\n",
    "ar = AllRender().demo_propagator(\"neutralino\")"
   ]
  },
  {
   "cell_type": "code",
   "execution_count": null,
   "id": "6bf58edc",
   "metadata": {},
   "outputs": [],
   "source": []
  }
 ],
 "metadata": {
  "kernelspec": {
   "display_name": "Python 3 (ipykernel)",
   "language": "python",
   "name": "python3"
  },
  "language_info": {
   "codemirror_mode": {
    "name": "ipython",
    "version": 3
   },
   "file_extension": ".py",
   "mimetype": "text/x-python",
   "name": "python",
   "nbconvert_exporter": "python",
   "pygments_lexer": "ipython3",
   "version": "3.9.16"
  }
 },
 "nbformat": 4,
 "nbformat_minor": 5
}
