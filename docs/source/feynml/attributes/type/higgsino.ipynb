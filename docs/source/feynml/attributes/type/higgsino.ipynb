{
 "cells": [
  {
   "cell_type": "markdown",
   "id": "896a74d6",
   "metadata": {},
   "source": [
    "# higgsino"
   ]
  },
  {
   "cell_type": "code",
   "execution_count": 1,
   "id": "c0acd5dd",
   "metadata": {},
   "outputs": [
    {
     "name": "stdout",
     "output_type": "stream",
     "text": [
      "Pyx:\n",
      "Pyx failed: 'higgsino'\n",
      "Tikz:\n",
      "Tikz failed: 'higgsino'\n",
      "Feynmp:\n",
      "Feynmp failed: 'higgsino'\n",
      "Dot:\n",
      "Dot failed: 'higgsino'\n",
      "ASCIIPDF:\n",
      "ASCIIPDF failed: 'higgsino'\n",
      "MPL:\n",
      "MPL failed: 'higgsino'\n"
     ]
    }
   ],
   "source": [
    "from pyfeyn2.render.all import AllRender\n",
    "ar = AllRender().demo_propagator(\"higgsino\")"
   ]
  },
  {
   "cell_type": "code",
   "execution_count": null,
   "id": "77d871ec",
   "metadata": {},
   "outputs": [],
   "source": []
  }
 ],
 "metadata": {
  "kernelspec": {
   "display_name": "Python 3 (ipykernel)",
   "language": "python",
   "name": "python3"
  },
  "language_info": {
   "codemirror_mode": {
    "name": "ipython",
    "version": 3
   },
   "file_extension": ".py",
   "mimetype": "text/x-python",
   "name": "python",
   "nbconvert_exporter": "python",
   "pygments_lexer": "ipython3",
   "version": "3.9.16"
  }
 },
 "nbformat": 4,
 "nbformat_minor": 5
}
