{
 "cells": [
  {
   "cell_type": "markdown",
   "id": "022446e0",
   "metadata": {},
   "source": [
    "# phantom\n",
    "\n",
    "Phantom is used as a utility connection and rendered as nothing."
   ]
  },
  {
   "cell_type": "code",
   "execution_count": 1,
   "id": "4dc0fb8d",
   "metadata": {},
   "outputs": [],
   "source": [
    "import pyfeyn2"
   ]
  },
  {
   "cell_type": "code",
   "execution_count": 2,
   "id": "dcecc0f6",
   "metadata": {
    "scrolled": false
   },
   "outputs": [
    {
     "name": "stdout",
     "output_type": "stream",
     "text": [
      "pyx:\n",
      "pyx failed:\n",
      "Traceback (most recent call last):\n",
      "  File \"/home/apn/data/de.neuwirthinformatik.Alexander/Development/git/pyfeyn2/pyfeyn2/render/all.py\", line 66, in render\n",
      "    render(fd).render(dirpath + \"/\" + name + \".pdf\", **dynarg)\n",
      "  File \"/home/apn/data/de.neuwirthinformatik.Alexander/Development/git/pyfeyn2/pyfeyn2/render/pyx/pyxrender.py\", line 49, in render\n",
      "    pyxfd.draw(file)\n",
      "  File \"/home/apn/data/de.neuwirthinformatik.Alexander/Development/git/pyfeyn2/pyfeyn2/render/pyx/diagrams.py\", line 78, in draw\n",
      "    c.writetofile(outfile, page_bbox=c.bbox().enlarged(enlargement))\n",
      "  File \"/home/apn/.cache/pypoetry/virtualenvs/pyfeyn2-CEvJ4jFG-py3.9/lib/python3.9/site-packages/pyx/canvas.py\", line 50, in wrappedindocument\n",
      "    return method(d, file, **write_kwargs)\n",
      "  File \"/home/apn/.cache/pypoetry/virtualenvs/pyfeyn2-CEvJ4jFG-py3.9/lib/python3.9/site-packages/pyx/document.py\", line 206, in writetofile\n",
      "    method(self, f, **kwargs)\n",
      "  File \"/home/apn/.cache/pypoetry/virtualenvs/pyfeyn2-CEvJ4jFG-py3.9/lib/python3.9/site-packages/pyx/pdfwriter.py\", line 340, in __init__\n",
      "    registry.write(file, self, catalog)\n",
      "  File \"/home/apn/.cache/pypoetry/virtualenvs/pyfeyn2-CEvJ4jFG-py3.9/lib/python3.9/site-packages/pyx/pdfwriter.py\", line 78, in write\n",
      "    object.write(file, writer, self)\n",
      "  File \"/home/apn/.cache/pypoetry/virtualenvs/pyfeyn2-CEvJ4jFG-py3.9/lib/python3.9/site-packages/pyx/pdfwriter.py\", line 254, in write\n",
      "    file.write(\"/MediaBox [%f %f %f %f]\\n\" % self.PDFcontent.bbox.highrestuple_pt())\n",
      "  File \"/home/apn/.cache/pypoetry/virtualenvs/pyfeyn2-CEvJ4jFG-py3.9/lib/python3.9/site-packages/pyx/bbox.py\", line 112, in highrestuple_pt\n",
      "    raise ValueError(\"Cannot return high-res tuple for empty bbox\")\n",
      "ValueError: Cannot return high-res tuple for empty bbox\n",
      "\n",
      "feynmp:\n",
      "This is LuaHBTeX, Version 1.13.0 (TeX Live 2021 Gentoo Linux) \n",
      " system commands enabled.\n",
      "(/tmp/tmpjl0wfy2m/feynmp.tex\n",
      "LaTeX2e <2020-10-01> patch level 4\n",
      " L3 programming layer <2021-02-18>\n",
      "(/usr/share/texmf-dist/tex/latex/standalone/standalone.cls\n",
      "Document Class: standalone 2018/03/26 v1.3a Class to compile TeX sub-files stan\n",
      "dalone\n",
      "(/usr/share/texmf-dist/tex/latex/tools/shellesc.sty)\n",
      "(/usr/share/texmf-dist/tex/generic/iftex/ifluatex.sty\n",
      "(/usr/share/texmf-dist/tex/generic/iftex/iftex.sty))\n",
      "(/usr/share/texmf-dist/tex/latex/xkeyval/xkeyval.sty\n",
      "(/usr/share/texmf-dist/tex/generic/xkeyval/xkeyval.tex\n",
      "(/usr/share/texmf-dist/tex/generic/xkeyval/xkvutils.tex\n",
      "(/usr/share/texmf-dist/tex/generic/xkeyval/keyval.tex))))\n",
      "(/usr/share/texmf-dist/tex/latex/standalone/standalone.cfg)\n",
      "(/usr/share/texmf-dist/tex/latex/base/article.cls\n",
      "Document Class: article 2020/04/10 v1.4m Standard LaTeX document class\n",
      "(/usr/share/texmf-dist/tex/latex/base/size10.clo))\n",
      "(/usr/share/texmf-dist/tex/generic/luatex85/luatex85.sty)\n",
      "(/usr/share/texmf-dist/tex/generic/pdftexcmds/pdftexcmds.sty\n",
      "(/usr/share/texmf-dist/tex/generic/infwarerr/infwarerr.sty)\n",
      "(/usr/share/texmf-dist/tex/generic/ltxcmds/ltxcmds.sty)))\n",
      "(/usr/share/texmf-dist/tex/latex/base/fontenc.sty\n",
      "(/usr/share/texmf-dist/tex/latex/lm/t1lmr.fd))\n",
      "(/usr/share/texmf-dist/tex/latex/base/inputenc.sty\n",
      "\n",
      "Package inputenc Warning: inputenc package ignored with utf8 based engines.\n",
      "\n",
      ") (/usr/share/texmf-dist/tex/latex/lm/lmodern.sty)\n",
      "(/usr/share/texmf-dist/tex/latex/base/textcomp.sty)\n",
      "(/usr/share/texmf-dist/tex/latex/lastpage/lastpage.sty)\n",
      "\n",
      "! LaTeX Error: File `feynmp-auto.sty' not found.\n",
      "\n",
      "Type X to quit or <RETURN> to proceed,\n",
      "or enter new name. (Default extension: sty)\n",
      "\n",
      "Enter file name: \n",
      "! Emergency stop.\n",
      "<read *> \n",
      "   \n",
      "l.10 \\begin\n",
      "         {document}%\n",
      " 375 words of node memory still in use:\n",
      "   2 hlist, 1 rule, 1 dir, 3 kern, 1 glyph, 3 attribute, 48 glue_spec, 3 attrib\n",
      "ute_list, 1 write nodes\n",
      "   avail lists: 2:16,3:2,4:1,5:2,7:2,9:3\n",
      "!  ==> Fatal error occurred, no output PDF file produced!\n",
      "Transcript written on feynmp.log.\n",
      "\n",
      "feynmp failed:\n",
      "Traceback (most recent call last):\n",
      "  File \"/home/apn/data/de.neuwirthinformatik.Alexander/Development/git/pyfeyn2/pyfeyn2/render/all.py\", line 66, in render\n",
      "    render(fd).render(dirpath + \"/\" + name + \".pdf\", **dynarg)\n",
      "  File \"/home/apn/data/de.neuwirthinformatik.Alexander/Development/git/pyfeyn2/pyfeyn2/render/latex/metapost.py\", line 36, in render\n",
      "    super().render(\n",
      "  File \"/home/apn/data/de.neuwirthinformatik.Alexander/Development/git/pyfeyn2/pyfeyn2/render/latex/latex.py\", line 55, in render\n",
      "    self.generate_pdf(\n",
      "  File \"/home/apn/.cache/pypoetry/virtualenvs/pyfeyn2-CEvJ4jFG-py3.9/lib/python3.9/site-packages/pylatex/document.py\", line 250, in generate_pdf\n",
      "    output = subprocess.check_output(command,\n",
      "  File \"/usr/lib/python3.9/subprocess.py\", line 424, in check_output\n",
      "    return run(*popenargs, stdout=PIPE, timeout=timeout, check=True,\n",
      "  File \"/usr/lib/python3.9/subprocess.py\", line 528, in run\n",
      "    raise CalledProcessError(retcode, process.args,\n",
      "subprocess.CalledProcessError: Command '['lualatex', '-shell-escape', '--interaction=nonstopmode', '/tmp/tmpjl0wfy2m/feynmp.tex']' returned non-zero exit status 1.\n",
      "\n",
      "tikz:\n"
     ]
    },
    {
     "name": "stderr",
     "output_type": "stream",
     "text": [
      "Error: /undefined in --runpdf--\n",
      "Additional information: [/PageSize [113.386 0]]\n",
      "Operand stack:\n",
      "   --nostringval--   --dict:5/14(L)--   --dict:5/14(L)--   --dict:5/14(L)--   MediaBox   --nostringval--   0   0   false   (   **** Error: PDF interpreter encountered an error processing the file.\\n)\n",
      "Execution stack:\n",
      "   %interp_exit   .runexec2   --nostringval--   runpdf   --nostringval--   2   %stopped_push   --nostringval--   runpdf   runpdf   false   1   %stopped_push   1990   1   3   %oparray_pop   1989   1   3   %oparray_pop   1977   1   3   %oparray_pop   1978   1   3   %oparray_pop   runpdf\n",
      "Dictionary stack:\n",
      "   --dict:775/1123(ro)(G)--   --dict:0/20(G)--   --dict:76/200(L)--   --dict:19/20(L)--\n",
      "Current allocation mode is local\n",
      "Last OS error: No such file or directory\n",
      "GPL Ghostscript 10.00.0: Unrecoverable error, exit code 1\n"
     ]
    },
    {
     "name": "stdout",
     "output_type": "stream",
     "text": [
      "tikz failed:\n",
      "Traceback (most recent call last):\n",
      "  File \"/home/apn/data/de.neuwirthinformatik.Alexander/Development/git/pyfeyn2/pyfeyn2/render/all.py\", line 66, in render\n",
      "    render(fd).render(dirpath + \"/\" + name + \".pdf\", **dynarg)\n",
      "  File \"/home/apn/data/de.neuwirthinformatik.Alexander/Development/git/pyfeyn2/pyfeyn2/render/latex/latex.py\", line 61, in render\n",
      "    wi = WImage(\n",
      "  File \"/home/apn/.cache/pypoetry/virtualenvs/pyfeyn2-CEvJ4jFG-py3.9/lib/python3.9/site-packages/wand/image.py\", line 9326, in __init__\n",
      "    self.read(filename=filename)\n",
      "  File \"/home/apn/.cache/pypoetry/virtualenvs/pyfeyn2-CEvJ4jFG-py3.9/lib/python3.9/site-packages/wand/image.py\", line 10075, in read\n",
      "    self.raise_exception()\n",
      "  File \"/home/apn/.cache/pypoetry/virtualenvs/pyfeyn2-CEvJ4jFG-py3.9/lib/python3.9/site-packages/wand/resource.py\", line 225, in raise_exception\n",
      "    raise e\n",
      "wand.exceptions.DelegateError: FailedToExecuteCommand `'gs' -sstdout=%stderr -dQUIET -dSAFER -dBATCH -dNOPAUSE -dNOPROMPT -dMaxBitmap=500000000 -dAlignToPixels=0 -dGridFitTT=2 '-sDEVICE=pngalpha' -dTextAlphaBits=4 -dGraphicsAlphaBits=4 '-r100x100' -dPrinted=false  '-sOutputFile=/tmp/magick-G_33G88iL8DPefKlxtR4_xHs-E4P8yv5%d' '-f/tmp/magick-BtU2NRTOcXwe8olrPCXiVyUB7QmFlOWm' '-f/tmp/magick-wk_qEIj_XT3ChlRZIYbnXlNPJLqxEne8'' (256) @ error/ghostscript-private.h/ExecuteGhostscriptCommand/74\n",
      "\n",
      "dot:\n"
     ]
    },
    {
     "data": {
      "image/png": "[encoded data removed]",
      "text/plain": [
       "<wand.image.Image: a12c984 'PDF' (531x51)>"
      ]
     },
     "metadata": {},
     "output_type": "display_data"
    },
    {
     "name": "stdout",
     "output_type": "stream",
     "text": [
      "feynman:\n"
     ]
    },
    {
     "data": {
      "image/png": "[encoded data removed]",
      "text/plain": [
       "<Figure size 1000x1000 with 1 Axes>"
      ]
     },
     "metadata": {},
     "output_type": "display_data"
    },
    {
     "name": "stdout",
     "output_type": "stream",
     "text": [
      "mpl:\n"
     ]
    },
    {
     "data": {
      "image/png": "[encoded data removed]",
      "text/plain": [
       "<Figure size 640x480 with 1 Axes>"
      ]
     },
     "metadata": {},
     "output_type": "display_data"
    },
    {
     "name": "stdout",
     "output_type": "stream",
     "text": [
      "ascii:\n",
      "                                        \n",
      "                                        \n",
      "                                        \n",
      "                                        \n",
      "                                        \n",
      "                                        \n",
      "                                        \n",
      "                                        \n",
      "                                        \n",
      "                                        \n",
      "                                        \n",
      "                                        \n",
      "                                        \n",
      "                                        \n",
      "                                        \n",
      "                                        \n",
      "                                        \n",
      "                                        \n",
      "                                        \n",
      "                                        \n",
      "                                        \n",
      "                                        \n",
      "                                        \n",
      "                                        \n",
      "                                        \n",
      "                                        \n",
      "                                        \n",
      "                                        \n",
      "                                        \n",
      "                                        \n",
      "\n"
     ]
    },
    {
     "data": {
      "image/png": "[encoded data removed]",
      "text/plain": [
       "<wand.image.Image: 37d2f3b 'PDF' (477x3)>"
      ]
     },
     "metadata": {},
     "output_type": "display_data"
    },
    {
     "name": "stdout",
     "output_type": "stream",
     "text": [
      "unicode:\n",
      "                                        \n",
      "                                        \n",
      "                                        \n",
      "                                        \n",
      "                                        \n",
      "                                        \n",
      "                                        \n",
      "                                        \n",
      "                                        \n",
      "                                        \n",
      "                                        \n",
      "                                        \n",
      "                                        \n",
      "                                        \n",
      "                                        \n",
      "                                        \n",
      "                                        \n",
      "                                        \n",
      "                                        \n",
      "                                        \n",
      "                                        \n",
      "                                        \n",
      "                                        \n",
      "                                        \n",
      "                                        \n",
      "                                        \n",
      "                                        \n",
      "                                        \n",
      "                                        \n",
      "                                        \n",
      "\n"
     ]
    },
    {
     "data": {
      "image/png": "[encoded data removed]",
      "text/plain": [
       "<wand.image.Image: 6db038b 'PDF' (477x200)>"
      ]
     },
     "metadata": {},
     "output_type": "display_data"
    }
   ],
   "source": [
    "from pyfeyn2.render.all import AllRender\n",
    "ar = AllRender().demo_propagator(\"phantom\")"
   ]
  }
 ],
 "metadata": {
  "kernelspec": {
   "display_name": "Python 3 (ipykernel)",
   "language": "python",
   "name": "python3"
  },
  "language_info": {
   "codemirror_mode": {
    "name": "ipython",
    "version": 3
   },
   "file_extension": ".py",
   "mimetype": "text/x-python",
   "name": "python",
   "nbconvert_exporter": "python",
   "pygments_lexer": "ipython3",
   "version": "3.9.16"
  }
 },
 "nbformat": 4,
 "nbformat_minor": 5
}
