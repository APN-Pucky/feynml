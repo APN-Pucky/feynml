{
 "cells": [
  {
   "cell_type": "markdown",
   "id": "73d22a09",
   "metadata": {},
   "source": [
    "# square"
   ]
  },
  {
   "cell_type": "code",
   "execution_count": 1,
   "id": "e1c06a4a",
   "metadata": {},
   "outputs": [
    {
     "name": "stdout",
     "output_type": "stream",
     "text": [
      "tikz:\n"
     ]
    },
    {
     "data": {
      "image/png": "[encoded data removed]",
      "text/plain": [
       "<wand.image.Image: 9fe5a6f 'PDF' (79x79)>"
      ]
     },
     "metadata": {},
     "output_type": "display_data"
    },
    {
     "name": "stdout",
     "output_type": "stream",
     "text": [
      "pyx:\n",
      "pyx failed:\n",
      "Traceback (most recent call last):\n",
      "  File \"/home/apn/data/de.neuwirthinformatik.Alexander/Development/git/pyfeyn2/pyfeyn2/render/all.py\", line 86, in render\n",
      "    render(fd).render(dirpath + \"/\" + name + \".pdf\", **dynarg)\n",
      "  File \"/home/apn/data/de.neuwirthinformatik.Alexander/Development/git/pyfeyn2/pyfeyn2/render/pyx/pyxrender.py\", line 43, in render\n",
      "    nl = NamedLine[l.type](Point(l.x, l.y), Point(tar.x, tar.y))\n",
      "KeyError: 'line'\n",
      "\n",
      "feynmp:\n",
      "feynmp failed:\n",
      "Traceback (most recent call last):\n",
      "  File \"/home/apn/data/de.neuwirthinformatik.Alexander/Development/git/pyfeyn2/pyfeyn2/render/all.py\", line 86, in render\n",
      "    render(fd).render(dirpath + \"/\" + name + \".pdf\", **dynarg)\n",
      "  File \"/home/apn/data/de.neuwirthinformatik.Alexander/Development/git/pyfeyn2/pyfeyn2/render/latex/feynmp.py\", line 173, in __init__\n",
      "    self.set_feynman_diagram(fd)\n",
      "  File \"/home/apn/data/de.neuwirthinformatik.Alexander/Development/git/pyfeyn2/pyfeyn2/render/latex/feynmp.py\", line 177, in set_feynman_diagram\n",
      "    self.set_src_diag(NoEscape(feynman_to_feynmp(fd)))\n",
      "  File \"/home/apn/data/de.neuwirthinformatik.Alexander/Development/git/pyfeyn2/pyfeyn2/render/latex/feynmp.py\", line 110, in feynman_to_feynmp\n",
      "    tttype = type_map[l.type]\n",
      "KeyError: 'line'\n",
      "\n",
      "feynman:\n",
      "feynman failed:\n",
      "Traceback (most recent call last):\n",
      "  File \"/home/apn/data/de.neuwirthinformatik.Alexander/Development/git/pyfeyn2/pyfeyn2/render/all.py\", line 86, in render\n",
      "    render(fd).render(dirpath + \"/\" + name + \".pdf\", **dynarg)\n",
      "  File \"/home/apn/data/de.neuwirthinformatik.Alexander/Development/git/pyfeyn2/pyfeyn2/render/mpl/feynmanrender.py\", line 131, in render\n",
      "    for style in get_styled_lines(self.fd, l):\n",
      "  File \"/home/apn/data/de.neuwirthinformatik.Alexander/Development/git/pyfeyn2/pyfeyn2/render/mpl/feynmanrender.py\", line 35, in get_styled_lines\n",
      "    for i in namedlines[p.type]:\n",
      "KeyError: 'line'\n",
      "\n",
      "dot:\n",
      "dot failed:\n",
      "Traceback (most recent call last):\n",
      "  File \"/home/apn/data/de.neuwirthinformatik.Alexander/Development/git/pyfeyn2/pyfeyn2/render/all.py\", line 86, in render\n",
      "    render(fd).render(dirpath + \"/\" + name + \".pdf\", **dynarg)\n",
      "  File \"/home/apn/data/de.neuwirthinformatik.Alexander/Development/git/pyfeyn2/pyfeyn2/render/latex/dot.py\", line 72, in __init__\n",
      "    self.set_feynman_diagram(fd)\n",
      "  File \"/home/apn/data/de.neuwirthinformatik.Alexander/Development/git/pyfeyn2/pyfeyn2/render/latex/dot.py\", line 76, in set_feynman_diagram\n",
      "    self.src_dot = feynman_to_dot(\n",
      "  File \"/home/apn/data/de.neuwirthinformatik.Alexander/Development/git/pyfeyn2/pyfeyn2/interface/dot.py\", line 49, in feynman_to_dot\n",
      "    thestyle = styler(l)\n",
      "  File \"/home/apn/data/de.neuwirthinformatik.Alexander/Development/git/pyfeyn2/pyfeyn2/render/latex/dot.py\", line 33, in stylize_connect\n",
      "    style = 'style=\"{}\",texmode=\"raw\"'.format(map_feyn_to_tikz[c.type])\n",
      "KeyError: 'line'\n",
      "\n",
      "mpl:\n",
      "mpl failed:\n",
      "Traceback (most recent call last):\n",
      "  File \"/home/apn/data/de.neuwirthinformatik.Alexander/Development/git/pyfeyn2/pyfeyn2/render/all.py\", line 86, in render\n",
      "    render(fd).render(dirpath + \"/\" + name + \".pdf\", **dynarg)\n",
      "  File \"/home/apn/data/de.neuwirthinformatik.Alexander/Development/git/pyfeyn2/pyfeyn2/render/mpl/mpl.py\", line 143, in render\n",
      "    namedlines[l.type](idtopos[l.id], idtopos[l.target])\n",
      "KeyError: 'line'\n",
      "\n",
      "ascii:\n",
      "ascii failed:\n",
      "Traceback (most recent call last):\n",
      "  File \"/home/apn/data/de.neuwirthinformatik.Alexander/Development/git/pyfeyn2/pyfeyn2/render/all.py\", line 86, in render\n",
      "    render(fd).render(dirpath + \"/\" + name + \".pdf\", **dynarg)\n",
      "  File \"/home/apn/data/de.neuwirthinformatik.Alexander/Development/git/pyfeyn2/pyfeyn2/render/text/asciipdf.py\", line 25, in render\n",
      "    ASCIIRender.render(self, file, show, resolution, width, height)\n",
      "  File \"/home/apn/data/de.neuwirthinformatik.Alexander/Development/git/pyfeyn2/pyfeyn2/render/text/ascii.py\", line 156, in render\n",
      "    self.namedlines[l.type]().draw(pane, Point(l.x, l.y), tar, **fmt)\n",
      "KeyError: 'line'\n",
      "\n",
      "unicode:\n",
      "unicode failed:\n",
      "Traceback (most recent call last):\n",
      "  File \"/home/apn/data/de.neuwirthinformatik.Alexander/Development/git/pyfeyn2/pyfeyn2/render/all.py\", line 86, in render\n",
      "    render(fd).render(dirpath + \"/\" + name + \".pdf\", **dynarg)\n",
      "  File \"/home/apn/data/de.neuwirthinformatik.Alexander/Development/git/pyfeyn2/pyfeyn2/render/text/unicodepdf.py\", line 64, in render\n",
      "    UnicodeRender.render(self, file, show, resolution, width, height)\n",
      "  File \"/home/apn/data/de.neuwirthinformatik.Alexander/Development/git/pyfeyn2/pyfeyn2/render/text/ascii.py\", line 156, in render\n",
      "    self.namedlines[l.type]().draw(pane, Point(l.x, l.y), tar, **fmt)\n",
      "KeyError: 'line'\n",
      "\n"
     ]
    },
    {
     "data": {
      "image/png": "[encoded data removed]",
      "text/plain": [
       "<Figure size 500x500 with 1 Axes>"
      ]
     },
     "metadata": {},
     "output_type": "display_data"
    }
   ],
   "source": [
    "from pyfeyn2.render.all import AllRender\n",
    "ar = AllRender().demo_vertex(\"square\")"
   ]
  },
  {
   "cell_type": "code",
   "execution_count": null,
   "id": "29c2477b",
   "metadata": {},
   "outputs": [],
   "source": []
  }
 ],
 "metadata": {
  "kernelspec": {
   "display_name": "Python 3 (ipykernel)",
   "language": "python",
   "name": "python3"
  },
  "language_info": {
   "codemirror_mode": {
    "name": "ipython",
    "version": 3
   },
   "file_extension": ".py",
   "mimetype": "text/x-python",
   "name": "python",
   "nbconvert_exporter": "python",
   "pygments_lexer": "ipython3",
   "version": "3.9.16"
  }
 },
 "nbformat": 4,
 "nbformat_minor": 5
}
