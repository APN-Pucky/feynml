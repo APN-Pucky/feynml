{
        "cells": [
                {
                        "cell_type": "markdown",
                        "id": "8755f09e",
                        "metadata": {},
                        "source": [
                                "# ASCII"
                        ]
                },
                {
                        "cell_type": "markdown",
                        "id": "4c4fe0ff",
                        "metadata": {},
                        "source": [
                                "## Characters/String"
                        ]
                },
                {
                        "cell_type": "code",
                        "execution_count": 1,
                        "id": "00b27fa3",
                        "metadata": {},
                        "outputs": [],
                        "source": [
                                "from pyfeyn2.feynmandiagram import FeynmanDiagram, Leg, Propagator, Vertex\n",
                                "from pyfeyn2.render.text.ascii import ASCIIRender\n",
                                "from pyfeyn2.render.latex.dot import feynman_adjust_points"
                        ]
                },
                {
                        "cell_type": "code",
                        "execution_count": 2,
                        "id": "b2236bc4",
                        "metadata": {},
                        "outputs": [],
                        "source": [
                                "fd = FeynmanDiagram()\n",
                                "v1 = Vertex(\"v1\")\n",
                                "v2 = Vertex(\"v2\")\n",
                                "v3 = Vertex(\"v3\")\n",
                                "v4 = Vertex(\"v4\")\n",
                                "p1 = Propagator(\"p1\").connect(v2, v1).with_type(\"fermion\")\n",
                                "p2 = Propagator(\"p2\").connect(v1, v3).with_type(\"fermion\")\n",
                                "p3 = Propagator(\"p3\").connect(v3, v2).with_type(\"fermion\")\n",
                                "p4 = Propagator(\"p4\").connect(v4, v3).with_type(\"gluon\")\n",
                                "p5 = Propagator(\"p5\").connect(v4, v2).with_type(\"gluon\")\n",
                                "l1 = Leg(\"l1\").with_target(v1).with_type(\"gluon\").with_incoming().with_xy(-2, 1)\n",
                                "l2 = Leg(\"l2\").with_target(v1).with_type(\"gluon\").with_incoming().with_xy(-2, -1)\n",
                                "l3 = Leg(\"l3\").with_target(v2).with_type(\"gluon\").with_outgoing().with_xy(2, -2)\n",
                                "l4 = Leg(\"l4\").with_target(v3).with_type(\"gluon\").with_outgoing().with_xy(2, 2)\n",
                                "l5 = Leg(\"l5\").with_target(v4).with_type(\"gluon\").with_outgoing().with_xy(2, 1)\n",
                                "l6 = Leg(\"l6\").with_target(v4).with_type(\"gluon\").with_outgoing().with_xy(2, -1)\n",
                                "\n",
                                "fd.propagators.extend([p1, p2, p3, p4, p5])\n",
                                "fd.vertices.extend([v1, v2, v3, v4])\n",
                                "fd.legs.extend([l1, l2, l3, l4, l5, l6])\n",
                                "fd= feynman_adjust_points(fd)"
                        ]
                },
                {
                        "cell_type": "code",
                        "execution_count": 3,
                        "id": "7ffda508",
                        "metadata": {},
                        "outputs": [
                                {
                                        "name": "stdout",
                                        "output_type": "stream",
                                        "text": [
                                                "                                                                                \n",
                                                "                                                                                \n",
                                                "                                                                                \n",
                                                "                                                                                \n",
                                                "                                                                                \n",
                                                "                                                                                \n",
                                                "                                                                             OO*\n",
                                                "                                                                       OOOOOO   \n",
                                                "                                                                 OOOOOO         \n",
                                                "                                                            OOOOO               \n",
                                                "      *OOOO                                           OOOOOO                 OO*\n",
                                                "           OOOOOOOOO                           ----*OOO                  OOOO   \n",
                                                "                    OOOOOOOOOO         -->---->    |   OOOOOOOO      OOOO       \n",
                                                "                              OOOO*->--            v           OOO*OO           \n",
                                                "                        OOOOOOO        <----<--    |   OOOOOOOO     OOO         \n",
                                                "                 OOOOOOO                       --<-*OOO                OOOO     \n",
                                                "          OOOOOOO                                     OOOOO                OOO  \n",
                                                "      *OOO                                                 OOOO               O*\n",
                                                "                                                               OOOOO            \n",
                                                "                                                                    OOOO        \n",
                                                "                                                                        OOOOO   \n",
                                                "                                                                             OO*\n",
                                                "                                                                                \n",
                                                "                                                                                \n",
                                                "                                                                                \n",
                                                "                                                                                \n",
                                                "                                                                                \n",
                                                "                                                                                \n",
                                                "                                                                                \n",
                                                "                                                                                \n",
                                                "\n"
                                        ]
                                }
                        ],
                        "source": [
                                "tfd = ASCIIRender(fd)\n",
                                "s= tfd.render(show=False,height=30,width=80)\n",
                                "print(s)"
                        ]
                },
                {
                        "cell_type": "markdown",
                        "id": "05c464b2",
                        "metadata": {},
                        "source": [
                                "## PDF"
                        ]
                },
                {
                        "cell_type": "code",
                        "execution_count": 4,
                        "id": "c79ef31d",
                        "metadata": {},
                        "outputs": [
                                {
                                        "name": "stdout",
                                        "output_type": "stream",
                                        "text": [
                                                "                                        \n",
                                                "                                        \n",
                                                "                                        \n",
                                                "                                        \n",
                                                "                                        \n",
                                                "                                        \n",
                                                "                                      O*\n",
                                                "                                   OOO  \n",
                                                "                                OOO     \n",
                                                "                              OO        \n",
                                                "   *OO                     OOO        O*\n",
                                                "      OOOO             >-*O         OO  \n",
                                                "          OOOO     ----  | OOOO   OO    \n",
                                                "              OO*->      v     O*O      \n",
                                                "            OOO    ----  | OOOO  OO     \n",
                                                "        OOOO           <-*O        OO   \n",
                                                "     OOO                   OO        OO \n",
                                                "   *O                        OO        *\n",
                                                "                               OOO      \n",
                                                "                                  OO    \n",
                                                "                                    OO  \n",
                                                "                                      O*\n",
                                                "                                        \n",
                                                "                                        \n",
                                                "                                        \n",
                                                "                                        \n",
                                                "                                        \n",
                                                "                                        \n",
                                                "                                        \n",
                                                "                                        \n",
                                                "\n"
                                        ]
                                },
                                {
                                        "data": {
                                                "image/png": "[encoded data removed]",
                                                "text/plain": [
                                                        "<wand.image.Image: ab47385 'PDF' (332x365)>"
                                                ]
                                        },
                                        "metadata": {},
                                        "output_type": "display_data"
                                }
                        ],
                        "source": [
                                "from pyfeyn2.render.text.asciipdf import ASCIIPDFRender\n",
                                "tfd = ASCIIPDFRender(fd)\n",
                                "tfd.render(show=True,height=30,width=40)"
                        ]
                },
                {
                        "cell_type": "code",
                        "execution_count": null,
                        "id": "cec929fe",
                        "metadata": {},
                        "outputs": [],
                        "source": []
                }
        ],
        "metadata": {
                "kernelspec": {
                        "display_name": "Python 3 (ipykernel)",
                        "language": "python",
                        "name": "python3"
                },
                "language_info": {
                        "codemirror_mode": {
                                "name": "ipython",
                                "version": 3
                        },
                        "file_extension": ".py",
                        "mimetype": "text/x-python",
                        "name": "python",
                        "nbconvert_exporter": "python",
                        "pygments_lexer": "ipython3",
                        "version": "3.9.16"
                },
                "vscode": {
                        "interpreter": {
                                "hash": "31f2aee4e71d21fbe5cf8b01ff0e069b9275f58929596ceb00d14d90e3e16cd6"
                        }
                }
        },
        "nbformat": 4,
        "nbformat_minor": 5
}
